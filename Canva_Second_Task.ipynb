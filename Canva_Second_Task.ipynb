{
 "cells": [
  {
   "cell_type": "markdown",
   "id": "c4f9d2da",
   "metadata": {},
   "source": [
    "<h1>Part Two: Experiment Analysis</h1>\n",
    "\n",
    "\n",
    "<h2>Overview</h2>\n",
    "\n",
    "For this Task, I first explain how I cleaned the data and then, I provide analysis in three sections. In the first section, I assess the engagement of users with the their search results in each condition by evaluating the impact of each condition on their click, export and purchase rate. In the second section, I provide analysis on how effective each condition is in finding users' desired item through less steps and finally, in the last section, I analyze the amount of gain in purchases we can get from choosing the better method.\n"
   ]
  },
  {
   "cell_type": "code",
   "execution_count": 12,
   "id": "3c8892f0",
   "metadata": {},
   "outputs": [],
   "source": [
    "import pandas as pd\n",
    "import numpy as np\n",
    "import scipy.stats as stats\n",
    "import pylab\n",
    "import matplotlib.pyplot as plt\n",
    "import seaborn as sns"
   ]
  },
  {
   "cell_type": "markdown",
   "id": "67aa01ea",
   "metadata": {},
   "source": [
    "<h2>Data Cleaning</h2>\n",
    "\n",
    "First, I read the data from the file and then checked for non-values."
   ]
  },
  {
   "cell_type": "code",
   "execution_count": 13,
   "id": "32f63229",
   "metadata": {},
   "outputs": [
    {
     "data": {
      "text/html": [
       "<div>\n",
       "<style scoped>\n",
       "    .dataframe tbody tr th:only-of-type {\n",
       "        vertical-align: middle;\n",
       "    }\n",
       "\n",
       "    .dataframe tbody tr th {\n",
       "        vertical-align: top;\n",
       "    }\n",
       "\n",
       "    .dataframe thead th {\n",
       "        text-align: right;\n",
       "    }\n",
       "</style>\n",
       "<table border=\"1\" class=\"dataframe\">\n",
       "  <thead>\n",
       "    <tr style=\"text-align: right;\">\n",
       "      <th></th>\n",
       "      <th>experiment_day</th>\n",
       "      <th>search_id</th>\n",
       "      <th>user_id</th>\n",
       "      <th>experiment_group</th>\n",
       "      <th>user_tier</th>\n",
       "      <th>query</th>\n",
       "      <th>media_types</th>\n",
       "      <th>num_elevations</th>\n",
       "      <th>num_clicks</th>\n",
       "      <th>num_exported_results</th>\n",
       "      <th>num_licenses</th>\n",
       "    </tr>\n",
       "  </thead>\n",
       "  <tbody>\n",
       "    <tr>\n",
       "      <th>0</th>\n",
       "      <td>65</td>\n",
       "      <td>AOGFabmo</td>\n",
       "      <td>51b2325a</td>\n",
       "      <td>B</td>\n",
       "      <td>free</td>\n",
       "      <td>speech bubble</td>\n",
       "      <td>RV</td>\n",
       "      <td>0</td>\n",
       "      <td>1</td>\n",
       "      <td>0</td>\n",
       "      <td>0</td>\n",
       "    </tr>\n",
       "    <tr>\n",
       "      <th>1</th>\n",
       "      <td>65</td>\n",
       "      <td>AIT27lH-</td>\n",
       "      <td>97c2ab50</td>\n",
       "      <td>A</td>\n",
       "      <td>paid</td>\n",
       "      <td>line</td>\n",
       "      <td>RV</td>\n",
       "      <td>80</td>\n",
       "      <td>2</td>\n",
       "      <td>1</td>\n",
       "      <td>0</td>\n",
       "    </tr>\n",
       "    <tr>\n",
       "      <th>2</th>\n",
       "      <td>65</td>\n",
       "      <td>AMgr6dQc</td>\n",
       "      <td>d626988c</td>\n",
       "      <td>B</td>\n",
       "      <td>free</td>\n",
       "      <td>button</td>\n",
       "      <td>RV</td>\n",
       "      <td>0</td>\n",
       "      <td>1</td>\n",
       "      <td>0</td>\n",
       "      <td>0</td>\n",
       "    </tr>\n",
       "    <tr>\n",
       "      <th>3</th>\n",
       "      <td>65</td>\n",
       "      <td>WKgECNwN</td>\n",
       "      <td>8bcaf483</td>\n",
       "      <td>B</td>\n",
       "      <td>free</td>\n",
       "      <td>apple</td>\n",
       "      <td>RV</td>\n",
       "      <td>0</td>\n",
       "      <td>0</td>\n",
       "      <td>0</td>\n",
       "      <td>0</td>\n",
       "    </tr>\n",
       "    <tr>\n",
       "      <th>4</th>\n",
       "      <td>65</td>\n",
       "      <td>dzdr0OMT</td>\n",
       "      <td>ca240171</td>\n",
       "      <td>A</td>\n",
       "      <td>paid</td>\n",
       "      <td>banner</td>\n",
       "      <td>RV</td>\n",
       "      <td>80</td>\n",
       "      <td>1</td>\n",
       "      <td>1</td>\n",
       "      <td>0</td>\n",
       "    </tr>\n",
       "  </tbody>\n",
       "</table>\n",
       "</div>"
      ],
      "text/plain": [
       "   experiment_day search_id   user_id experiment_group user_tier  \\\n",
       "0              65  AOGFabmo  51b2325a                B      free   \n",
       "1              65  AIT27lH-  97c2ab50                A      paid   \n",
       "2              65  AMgr6dQc  d626988c                B      free   \n",
       "3              65  WKgECNwN  8bcaf483                B      free   \n",
       "4              65  dzdr0OMT  ca240171                A      paid   \n",
       "\n",
       "           query media_types  num_elevations  num_clicks  \\\n",
       "0  speech bubble          RV               0           1   \n",
       "1           line          RV              80           2   \n",
       "2         button          RV               0           1   \n",
       "3          apple          RV               0           0   \n",
       "4         banner          RV              80           1   \n",
       "\n",
       "   num_exported_results  num_licenses  \n",
       "0                     0             0  \n",
       "1                     1             0  \n",
       "2                     0             0  \n",
       "3                     0             0  \n",
       "4                     1             0  "
      ]
     },
     "execution_count": 13,
     "metadata": {},
     "output_type": "execute_result"
    }
   ],
   "source": [
    "df = pd.read_csv('manual_elevations_experiment_data.csv')\n",
    "df.head()"
   ]
  },
  {
   "cell_type": "code",
   "execution_count": 14,
   "id": "a46e7652",
   "metadata": {},
   "outputs": [
    {
     "name": "stdout",
     "output_type": "stream",
     "text": [
      "<class 'pandas.core.frame.DataFrame'>\n",
      "RangeIndex: 1688377 entries, 0 to 1688376\n",
      "Data columns (total 11 columns):\n",
      " #   Column                Non-Null Count    Dtype \n",
      "---  ------                --------------    ----- \n",
      " 0   experiment_day        1688377 non-null  int64 \n",
      " 1   search_id             1688377 non-null  object\n",
      " 2   user_id               1688377 non-null  object\n",
      " 3   experiment_group      1688377 non-null  object\n",
      " 4   user_tier             1688377 non-null  object\n",
      " 5   query                 1688375 non-null  object\n",
      " 6   media_types           1688377 non-null  object\n",
      " 7   num_elevations        1688377 non-null  int64 \n",
      " 8   num_clicks            1688377 non-null  int64 \n",
      " 9   num_exported_results  1688377 non-null  int64 \n",
      " 10  num_licenses          1688377 non-null  int64 \n",
      "dtypes: int64(5), object(6)\n",
      "memory usage: 141.7+ MB\n"
     ]
    }
   ],
   "source": [
    "df.info()"
   ]
  },
  {
   "cell_type": "markdown",
   "id": "cebbe561",
   "metadata": {},
   "source": [
    "Then, I checked the values that exist in each column to remove any unwanted data. The only problematic row I found was a row with experiment group <strong>S</strong> which I removed from data.\n",
    "\n",
    "Some values in the column <span style=\"color: red;\">num_licences</span> also raised a warning for me, but I was not sure if it is due to my misunderstanding or if those rows are faulty. In the description file, num_licences is defined as <i>\"The number of distinct images that were clicked on in the search results and then\n",
    "paid for while downloading a design\"</i> then I expected to see values lower than or equal to num_exported_results in each row since it is a subset of it, but in some rows, the values of num_licences are higher than num_exported_results. Since I was not sure about that, I kept all the data in that column and did not remove anything."
   ]
  },
  {
   "cell_type": "code",
   "execution_count": 16,
   "id": "bd4cbe2d",
   "metadata": {},
   "outputs": [
    {
     "data": {
      "text/plain": [
       "B    847674\n",
       "A    840702\n",
       "S         1\n",
       "Name: experiment_group, dtype: int64"
      ]
     },
     "execution_count": 16,
     "metadata": {},
     "output_type": "execute_result"
    }
   ],
   "source": [
    "df['experiment_group'].value_counts()"
   ]
  },
  {
   "cell_type": "code",
   "execution_count": 17,
   "id": "5adb7e2b",
   "metadata": {},
   "outputs": [],
   "source": [
    "df.drop(df.index[df['experiment_group'] == 'S'], inplace=True)"
   ]
  },
  {
   "cell_type": "markdown",
   "id": "5e2eee37",
   "metadata": {},
   "source": [
    "Then, I plotted QQ diagram of columns that I want to use as dependent variable to check if the data is normally distributed."
   ]
  },
  {
   "cell_type": "code",
   "execution_count": 18,
   "id": "410eade1",
   "metadata": {},
   "outputs": [
    {
     "data": {
      "image/png": "[encoded data removed]",
      "text/plain": [
       "<Figure size 432x288 with 1 Axes>"
      ]
     },
     "metadata": {
      "needs_background": "light"
     },
     "output_type": "display_data"
    }
   ],
   "source": [
    "stats.probplot(df['num_clicks'], dist=\"norm\", plot=pylab)\n",
    "plt.title(\"Probabilty Plot of num_clicks\")\n",
    "pylab.show()"
   ]
  },
  {
   "cell_type": "code",
   "execution_count": 19,
   "id": "dc93a5d7",
   "metadata": {},
   "outputs": [
    {
     "data": {
      "image/png": "[encoded data removed]",
      "text/plain": [
       "<Figure size 432x288 with 1 Axes>"
      ]
     },
     "metadata": {
      "needs_background": "light"
     },
     "output_type": "display_data"
    }
   ],
   "source": [
    "stats.probplot(df['num_exported_results'], dist=\"norm\", plot=pylab)\n",
    "plt.title(\"Probabilty Plot of num_exported_results\")\n",
    "pylab.show()"
   ]
  },
  {
   "cell_type": "code",
   "execution_count": 20,
   "id": "05bcd5e3",
   "metadata": {},
   "outputs": [
    {
     "data": {
      "image/png": "[encoded data removed]",
      "text/plain": [
       "<Figure size 432x288 with 1 Axes>"
      ]
     },
     "metadata": {
      "needs_background": "light"
     },
     "output_type": "display_data"
    }
   ],
   "source": [
    "stats.probplot(df['num_licenses'], dist=\"norm\", plot=pylab)\n",
    "plt.title(\"Probabilty Plot of num_licenses\")\n",
    "pylab.show()"
   ]
  },
  {
   "cell_type": "markdown",
   "id": "ab6c5637",
   "metadata": {},
   "source": [
    "None of the potential dependent variables have normal distribution. Then, for significance testing, I will use non-parametric tests. Then, for removing outliers, I used percentiles which can remove outliers from a non-normal data. I removed outliers based on num_clicks values. For the upper and lower limits, I selected 1% and 99%. Since most of our values is zero in num_clicks column 1% percentile is still zero and only the upper limit is effective in removing outliers."
   ]
  },
  {
   "cell_type": "code",
   "execution_count": 21,
   "id": "6b817e7c",
   "metadata": {},
   "outputs": [],
   "source": [
    "lower_limit, upper_limit = np.percentile(df['num_clicks'], 1), np.percentile(df['num_exported_results'], 99)\n",
    "cleaned_df=df[df['num_clicks'].between(lower_limit, upper_limit)]"
   ]
  },
  {
   "cell_type": "markdown",
   "id": "dc3e3d81",
   "metadata": {},
   "source": [
    "After that, I split data based on the experiment_group to get the data in each condition."
   ]
  },
  {
   "cell_type": "code",
   "execution_count": 22,
   "id": "66b535a0",
   "metadata": {},
   "outputs": [],
   "source": [
    "grouped_cleaned_df = cleaned_df.groupby('experiment_group')\n",
    "a_cleaned_df= grouped_cleaned_df.get_group('A')\n",
    "b_cleaned_df= grouped_cleaned_df.get_group('B')"
   ]
  },
  {
   "cell_type": "markdown",
   "id": "3a0228bf",
   "metadata": {},
   "source": [
    "And then, I check the distribution of user_id, media_types, user_tier, and experiment_day to make sure there is not a significant difference between these distributions that may cause bias in our data."
   ]
  },
  {
   "cell_type": "code",
   "execution_count": 23,
   "id": "8c495231",
   "metadata": {},
   "outputs": [
    {
     "data": {
      "text/plain": [
       "((785342, 11), (789287, 11))"
      ]
     },
     "execution_count": 23,
     "metadata": {},
     "output_type": "execute_result"
    }
   ],
   "source": [
    "a_cleaned_df.shape, b_cleaned_df.shape"
   ]
  },
  {
   "cell_type": "code",
   "execution_count": 24,
   "id": "7bc6d5d3",
   "metadata": {},
   "outputs": [
    {
     "data": {
      "text/plain": [
       "(user_id\n",
       " 73fda8af    398\n",
       " dd5aa59f    260\n",
       " 5034f339    256\n",
       " 220463b6    244\n",
       " 303ee6c4    211\n",
       "            ... \n",
       " a06e96cf      1\n",
       " a06e7e9a      1\n",
       " a06e745a      1\n",
       " a06e02c9      1\n",
       " ffff8a16      1\n",
       " Length: 270633, dtype: int64,\n",
       " user_id\n",
       " 5f5250c0    614\n",
       " fd5e10ac    298\n",
       " 5ec61977    286\n",
       " a112b0a0    228\n",
       " 65906bba    204\n",
       "            ... \n",
       " 71109129      1\n",
       " 7110a903      1\n",
       " 7110e36a      1\n",
       " 7110e3ad      1\n",
       " ffffd954      1\n",
       " Length: 271757, dtype: int64)"
      ]
     },
     "execution_count": 24,
     "metadata": {},
     "output_type": "execute_result"
    }
   ],
   "source": [
    "b_cleaned_df.value_counts('user_id'), a_cleaned_df.value_counts('user_id')"
   ]
  },
  {
   "cell_type": "code",
   "execution_count": 25,
   "id": "1da2fbe6",
   "metadata": {},
   "outputs": [
    {
     "data": {
      "text/plain": [
       "(user_tier\n",
       " free    551320\n",
       " paid    234022\n",
       " dtype: int64,\n",
       " user_tier\n",
       " free    552768\n",
       " paid    236519\n",
       " dtype: int64)"
      ]
     },
     "execution_count": 25,
     "metadata": {},
     "output_type": "execute_result"
    }
   ],
   "source": [
    "a_cleaned_df.value_counts('user_tier'), b_cleaned_df.value_counts('user_tier')"
   ]
  },
  {
   "cell_type": "code",
   "execution_count": 26,
   "id": "6c8ffde7",
   "metadata": {},
   "outputs": [
    {
     "data": {
      "text/plain": [
       "(media_types\n",
       " RV    779586\n",
       " V       2898\n",
       " R       2858\n",
       " dtype: int64,\n",
       " media_types\n",
       " RV    783918\n",
       " R       3151\n",
       " V       2218\n",
       " dtype: int64)"
      ]
     },
     "execution_count": 26,
     "metadata": {},
     "output_type": "execute_result"
    }
   ],
   "source": [
    "a_cleaned_df.value_counts('media_types'), b_cleaned_df.value_counts('media_types')"
   ]
  },
  {
   "cell_type": "markdown",
   "id": "b40a8d2f",
   "metadata": {},
   "source": [
    "The data is very unbalanced on these independent variables. For instance, some participants contributed over 200 rows of data while some others have only a few rows which may bias the results toward the behaviour of the highly contributed participants. In a real-world task, I would check the impact of this imbalance in data by checking their significance and if it is significant, I would balance the data over these variables by downsampling. However, it may make this task complicated; then, I assume these imbalanced distributions do not impact the outcome."
   ]
  },
  {
   "cell_type": "markdown",
   "id": "b02796c0",
   "metadata": {},
   "source": [
    "<h2>Analysis</h2>\n",
    "\n",
    "\n",
    "<h3>Section 1: Engagement with Search Results  </h3>\n",
    "\n",
    "\n",
    "In this part, I want to see the engagement of users with the search results. For this part, I defined these metrics:\n",
    "<ul>\n",
    "  <li><b>Click Success Rate</b> : Percentage of queries that got at least a click from user</li>\n",
    "  <li><b>export Success Rate</b> : Percentage of queries that got at least an export from user\n",
    "</li>\n",
    "  <li><b>Paid Success Rate</b> : Percentage of queries that at least got paid for one item </li>\n",
    "</ul>\n",
    "\n",
    "These are self-defined metrics. The assumption behind these metrics was that a set of result is more successful if the user opens the items, download them or pay for them. I am unfamiliar with the metric that assesses the quality of search results and could not find anything that fits this problem when I searched for it and because of that I came up with these metrics."
   ]
  },
  {
   "cell_type": "markdown",
   "id": "29bbc50c",
   "metadata": {},
   "source": [
    "<h4>Analysis on Click Success Rate in condition A, B: </h4>"
   ]
  },
  {
   "cell_type": "code",
   "execution_count": 55,
   "id": "f3bba5a0",
   "metadata": {
    "scrolled": false
   },
   "outputs": [
    {
     "data": {
      "text/plain": [
       "Text(0.5, 1.0, 'Distribution of num_clicks in different conditions')"
      ]
     },
     "execution_count": 55,
     "metadata": {},
     "output_type": "execute_result"
    },
    {
     "data": {
      "image/png": "[encoded data removed]",
      "text/plain": [
       "<Figure size 432x288 with 1 Axes>"
      ]
     },
     "metadata": {
      "needs_background": "light"
     },
     "output_type": "display_data"
    }
   ],
   "source": [
    "data = pd.DataFrame({\n",
    "    'A': a_cleaned_df['num_clicks'],\n",
    "    'B':b_cleaned_df['num_clicks']\n",
    "})\n",
    "\n",
    "sns.boxplot(data=data)\n",
    "plt.title('Distribution of num_clicks in different conditions')"
   ]
  },
  {
   "cell_type": "code",
   "execution_count": 56,
   "id": "5caffa6c",
   "metadata": {},
   "outputs": [],
   "source": [
    "A_click_success_rate= 1-( a_cleaned_df['num_clicks'].value_counts()[0]/ a_cleaned_df['num_clicks'].count())\n",
    "B_click_success_rate= 1-( b_cleaned_df['num_clicks'].value_counts()[0]/ b_cleaned_df['num_clicks'].count())"
   ]
  },
  {
   "cell_type": "code",
   "execution_count": 57,
   "id": "ebf1fc62",
   "metadata": {
    "scrolled": true
   },
   "outputs": [
    {
     "data": {
      "text/plain": [
       "(0.5067410121959605, 0.5366425647451434)"
      ]
     },
     "execution_count": 57,
     "metadata": {},
     "output_type": "execute_result"
    }
   ],
   "source": [
    "A_click_success_rate, B_click_success_rate"
   ]
  },
  {
   "cell_type": "markdown",
   "id": "c8825189",
   "metadata": {},
   "source": [
    "Condition B has a slightly higher success rate. To make sure the difference is significant, I ran Mann–Whitney U test and the results show that the difference is significant."
   ]
  },
  {
   "cell_type": "code",
   "execution_count": 58,
   "id": "ac5a4c10",
   "metadata": {
    "scrolled": true
   },
   "outputs": [
    {
     "data": {
      "text/plain": [
       "MannwhitneyuResult(statistic=298917578418.5, pvalue=0.0)"
      ]
     },
     "execution_count": 58,
     "metadata": {},
     "output_type": "execute_result"
    }
   ],
   "source": [
    "num_click_A= a_cleaned_df['num_clicks']\n",
    "num_click_B= b_cleaned_df['num_clicks']\n",
    "stats.mannwhitneyu(a_cleaned_df['num_clicks'],b_cleaned_df['num_clicks']) "
   ]
  },
  {
   "cell_type": "code",
   "execution_count": 59,
   "id": "d37a1588",
   "metadata": {},
   "outputs": [
    {
     "name": "stdout",
     "output_type": "stream",
     "text": [
      "0.059007563685450765\n"
     ]
    }
   ],
   "source": [
    "percentage= (B_click_success_rate-A_click_success_rate)/A_click_success_rate\n",
    "print(percentage)"
   ]
  },
  {
   "cell_type": "markdown",
   "id": "014e2a5b",
   "metadata": {},
   "source": [
    "Then, we can say automatic elevation engage 5.9% more user with the search results in terms of opening an item in the search results."
   ]
  },
  {
   "cell_type": "markdown",
   "id": "b9b8314c",
   "metadata": {},
   "source": [
    "----------------------------------------------------------------------------------"
   ]
  },
  {
   "cell_type": "markdown",
   "id": "0e5d3de6",
   "metadata": {},
   "source": [
    "<h4>Analysis on Export Succes Rate in condition A, B: </h4>\n",
    "\n",
    "I did the same type of analysis for export success rate."
   ]
  },
  {
   "cell_type": "code",
   "execution_count": 69,
   "id": "3b89991f",
   "metadata": {},
   "outputs": [
    {
     "data": {
      "text/plain": [
       "Text(0.5, 1.0, 'Distribution of num_exported_results in different conditions')"
      ]
     },
     "execution_count": 69,
     "metadata": {},
     "output_type": "execute_result"
    },
    {
     "data": {
      "image/png": "[encoded data removed]",
      "text/plain": [
       "<Figure size 432x288 with 1 Axes>"
      ]
     },
     "metadata": {
      "needs_background": "light"
     },
     "output_type": "display_data"
    }
   ],
   "source": [
    "data = pd.DataFrame({\n",
    "    'A': a_cleaned_df['num_exported_results'],\n",
    "    'B':b_cleaned_df['num_exported_results']\n",
    "})\n",
    "\n",
    "sns.boxplot(data=data)\n",
    "plt.title('Distribution of num_exported_results in different conditions')"
   ]
  },
  {
   "cell_type": "code",
   "execution_count": 70,
   "id": "89893b05",
   "metadata": {},
   "outputs": [],
   "source": [
    "A_export_success_rate= 1-( a_cleaned_df['num_exported_results'].value_counts()[0]/ a_cleaned_df['num_exported_results'].count())\n",
    "B_export_success_rate= 1-( b_cleaned_df['num_exported_results'].value_counts()[0]/ b_cleaned_df['num_exported_results'].count())"
   ]
  },
  {
   "cell_type": "code",
   "execution_count": 71,
   "id": "fe82d736",
   "metadata": {},
   "outputs": [
    {
     "data": {
      "text/plain": [
       "(0.26277596257426705, 0.2632565847404049)"
      ]
     },
     "execution_count": 71,
     "metadata": {},
     "output_type": "execute_result"
    }
   ],
   "source": [
    "A_export_success_rate, B_export_success_rate"
   ]
  },
  {
   "cell_type": "markdown",
   "id": "bb16b879",
   "metadata": {},
   "source": [
    "Condition B has a slightly higher success rate in this case. To make sure the difference is significant, I ran Mann–Whitney U test. The results show that the difference is not significant. Then, adding manual elevation has no impact on the number of exported items compared to automatic elevation."
   ]
  },
  {
   "cell_type": "code",
   "execution_count": 72,
   "id": "3c115f00",
   "metadata": {},
   "outputs": [
    {
     "data": {
      "text/plain": [
       "MannwhitneyuResult(statistic=309814213253.5, pvalue=0.5952113599010627)"
      ]
     },
     "execution_count": 72,
     "metadata": {},
     "output_type": "execute_result"
    }
   ],
   "source": [
    "stats.mannwhitneyu(a_cleaned_df['num_exported_results'],b_cleaned_df['num_exported_results']) "
   ]
  },
  {
   "cell_type": "markdown",
   "id": "275382a5",
   "metadata": {},
   "source": [
    "------------------------------------------------------------------"
   ]
  },
  {
   "cell_type": "markdown",
   "id": "7f93a6d5",
   "metadata": {},
   "source": [
    "<h4>Analysis on Paid Succes Rate in condition A, B: </h4>\n",
    "\n",
    "Again, I did the same type of analysis for paid success rate."
   ]
  },
  {
   "cell_type": "code",
   "execution_count": 73,
   "id": "2d23de3e",
   "metadata": {},
   "outputs": [
    {
     "data": {
      "text/plain": [
       "Text(0.5, 1.0, 'Distribution of num_licenses in different conditions')"
      ]
     },
     "execution_count": 73,
     "metadata": {},
     "output_type": "execute_result"
    },
    {
     "data": {
      "image/png": "[encoded data removed]",
      "text/plain": [
       "<Figure size 432x288 with 1 Axes>"
      ]
     },
     "metadata": {
      "needs_background": "light"
     },
     "output_type": "display_data"
    }
   ],
   "source": [
    "data = pd.DataFrame({\n",
    "    'A': a_cleaned_df['num_licenses'],\n",
    "    'B':b_cleaned_df['num_licenses']\n",
    "})\n",
    "\n",
    "sns.histplot(data=data,multiple=\"dodge\", shrink=.8)\n",
    "plt.title('Distribution of num_licenses in different conditions')"
   ]
  },
  {
   "cell_type": "code",
   "execution_count": 74,
   "id": "4cb1acb2",
   "metadata": {},
   "outputs": [],
   "source": [
    "A_paid_success_rate= 1-( a_cleaned_df['num_licenses'].value_counts()[0]/ a_cleaned_df['num_licenses'].count())\n",
    "B_paid_success_rate= 1-( b_cleaned_df['num_licenses'].value_counts()[0]/ b_cleaned_df['num_licenses'].count())"
   ]
  },
  {
   "cell_type": "code",
   "execution_count": 75,
   "id": "6729f7e0",
   "metadata": {},
   "outputs": [
    {
     "data": {
      "text/plain": [
       "(0.020370742937471875, 0.02468810458046311)"
      ]
     },
     "execution_count": 75,
     "metadata": {},
     "output_type": "execute_result"
    }
   ],
   "source": [
    "A_paid_success_rate,B_paid_success_rate"
   ]
  },
  {
   "cell_type": "code",
   "execution_count": 76,
   "id": "cffdba5e",
   "metadata": {},
   "outputs": [
    {
     "data": {
      "text/plain": [
       "MannwhitneyuResult(statistic=308594477471.5, pvalue=3.742793142401375e-74)"
      ]
     },
     "execution_count": 76,
     "metadata": {},
     "output_type": "execute_result"
    }
   ],
   "source": [
    "stats.mannwhitneyu(a_cleaned_df['num_licenses'],b_cleaned_df['num_licenses']) "
   ]
  },
  {
   "cell_type": "markdown",
   "id": "a5bd9c24",
   "metadata": {},
   "source": [
    "For the paid success rate, condition B has a slightly higher success rate and Mann–Whitney U test shows that it is significant. Then, we can say automatic elevations lead to a higher number of paid downloads."
   ]
  },
  {
   "cell_type": "code",
   "execution_count": 77,
   "id": "861e2c7c",
   "metadata": {},
   "outputs": [],
   "source": [
    "percentage= (B_paid_success_rate-A_paid_success_rate)/A_paid_success_rate"
   ]
  },
  {
   "cell_type": "markdown",
   "id": "5530ac88",
   "metadata": {},
   "source": [
    "Then, we can say automatic elevation lead to 21.1% more queries with paid items.\n",
    "To sum up, automatic elevations showed better results overal, in terms of engaging users with the results and encouraging them to buy."
   ]
  },
  {
   "cell_type": "markdown",
   "id": "efda38ba",
   "metadata": {},
   "source": [
    "-----------------------------------------------------------------------------\n",
    "\n",
    "<h3>Section 2: Effectiveness of Each Method  </h3>\n"
   ]
  },
  {
   "cell_type": "markdown",
   "id": "06c11443",
   "metadata": {},
   "source": [
    "In the second part of my analysis, I want to investigate which method is more effective (or faster) in leading users to their desired image when they get related results (The results get at least one click) to their query. To study this, I defined a new metric. The definition is as follows:\n",
    "<ul>\n",
    "  <li>Export per Click Rate: The rate of export per click, among the sets of results that at least get on click from the user.\n",
    "  </li>\n",
    " </ul>\n",
    "I assumed an item is the desired item of a user when they export it. I measured this metric as follows:"
   ]
  },
  {
   "cell_type": "code",
   "execution_count": 78,
   "id": "0137305a",
   "metadata": {},
   "outputs": [],
   "source": [
    "non_zero_clicks_a= a_cleaned_df[a_cleaned_df['num_clicks'] !=0]\n",
    "non_zero_clicks_b= b_cleaned_df[b_cleaned_df['num_clicks'] !=0]"
   ]
  },
  {
   "cell_type": "code",
   "execution_count": 79,
   "id": "1757c2af",
   "metadata": {},
   "outputs": [],
   "source": [
    "CTE_A= non_zero_clicks_a['num_exported_results']/non_zero_clicks_a['num_clicks']\n",
    "CTE_B= non_zero_clicks_b['num_exported_results']/non_zero_clicks_b['num_clicks']"
   ]
  },
  {
   "cell_type": "code",
   "execution_count": 80,
   "id": "336ad5f4",
   "metadata": {},
   "outputs": [
    {
     "data": {
      "text/plain": [
       "(0.44783083939545215, 0.4173188688080441)"
      ]
     },
     "execution_count": 80,
     "metadata": {},
     "output_type": "execute_result"
    }
   ],
   "source": [
    "CTE_A.mean(),CTE_B.mean()"
   ]
  },
  {
   "cell_type": "code",
   "execution_count": 81,
   "id": "fd79f910",
   "metadata": {},
   "outputs": [
    {
     "data": {
      "text/plain": [
       "MannwhitneyuResult(statistic=87155589598.0, pvalue=3.937914065413762e-190)"
      ]
     },
     "execution_count": 81,
     "metadata": {},
     "output_type": "execute_result"
    }
   ],
   "source": [
    "stats.mannwhitneyu(CTE_A,CTE_B) "
   ]
  },
  {
   "cell_type": "markdown",
   "id": "3f287421",
   "metadata": {},
   "source": [
    "The results showed users find their desired item faster with manual leveation. In the other words, they have to view less item before they get their desired item. "
   ]
  },
  {
   "cell_type": "code",
   "execution_count": 82,
   "id": "36a83fb8",
   "metadata": {},
   "outputs": [
    {
     "data": {
      "text/plain": [
       "0.07311428470645737"
      ]
     },
     "execution_count": 82,
     "metadata": {},
     "output_type": "execute_result"
    }
   ],
   "source": [
    "(CTE_A.mean()-CTE_B.mean())/CTE_B.mean()"
   ]
  },
  {
   "cell_type": "markdown",
   "id": "6175b839",
   "metadata": {},
   "source": [
    "From this results, we can conclude that users find their desired items 7% faster using manual elevation if they get related results."
   ]
  },
  {
   "cell_type": "markdown",
   "id": "d04b9614",
   "metadata": {},
   "source": [
    "---------------------------------------------------------------------------"
   ]
  },
  {
   "cell_type": "markdown",
   "id": "b99f6b14",
   "metadata": {},
   "source": [
    "<h3>Section 3: Gain in Purchases</h3>\n",
    "\n",
    "Previously, we saw users in condition B tend to buy more. For this part, I want to measure the gain in condition B over Condition A.\n",
    "I assumed the extra value (paid amount) only comes from free users as the paid tier won't be charged extra for downloading the premium items. This may not be true in the real world, but with the limited information I have and testing the website, I made this assumption."
   ]
  },
  {
   "cell_type": "code",
   "execution_count": 83,
   "id": "ebc3e872",
   "metadata": {},
   "outputs": [
    {
     "name": "stdout",
     "output_type": "stream",
     "text": [
      "0.0008990234409240951\n"
     ]
    }
   ],
   "source": [
    "grouped_a = a_cleaned_df.groupby('user_tier')\n",
    "a_free_df= grouped_a .get_group('free')\n",
    "\n",
    "grouped_b = b_cleaned_df.groupby('user_tier')\n",
    "b_free_df= grouped_b.get_group('free')\n",
    "print(b_free_df['num_licenses'].mean()-a_free_df['num_licenses'].mean())"
   ]
  },
  {
   "cell_type": "markdown",
   "id": "64141371",
   "metadata": {},
   "source": [
    "Multiplying the aformentioned number by average item price will give us the gain we get from using automatic leverage. "
   ]
  },
  {
   "cell_type": "code",
   "execution_count": 84,
   "id": "b17d20e4",
   "metadata": {},
   "outputs": [
    {
     "name": "stdout",
     "output_type": "stream",
     "text": [
      "0.635448209551631\n"
     ]
    }
   ],
   "source": [
    "gain= (b_free_df['num_licenses'].mean()-a_free_df['num_licenses'].mean())/a_free_df['num_licenses'].mean()\n",
    "print(gain)"
   ]
  },
  {
   "cell_type": "markdown",
   "id": "26cb6db0",
   "metadata": {},
   "source": [
    "Or we can say transisioning from manual elevations to automatic elevations can increase the gain by 63%."
   ]
  },
  {
   "cell_type": "markdown",
   "id": "32959f88",
   "metadata": {},
   "source": [
    "------------------------------------------------------------------------------------------------------------------------------------------------------------------"
   ]
  },
  {
   "cell_type": "markdown",
   "id": "d43b55f1",
   "metadata": {},
   "source": [
    "<h2>Conclusion</h2>\n",
    "\n",
    "\n",
    "Looking back at the results of our analysis, We can conclude that the automatic elevation method performs much better in terms of engaging users and increasing purchases and it is superior to the manual elevation method overally. "
   ]
  }
 ],
 "metadata": {
  "kernelspec": {
   "display_name": "Python 3 (ipykernel)",
   "language": "python",
   "name": "python3"
  },
  "language_info": {
   "codemirror_mode": {
    "name": "ipython",
    "version": 3
   },
   "file_extension": ".py",
   "mimetype": "text/x-python",
   "name": "python",
   "nbconvert_exporter": "python",
   "pygments_lexer": "ipython3",
   "version": "3.9.12"
  }
 },
 "nbformat": 4,
 "nbformat_minor": 5
}
